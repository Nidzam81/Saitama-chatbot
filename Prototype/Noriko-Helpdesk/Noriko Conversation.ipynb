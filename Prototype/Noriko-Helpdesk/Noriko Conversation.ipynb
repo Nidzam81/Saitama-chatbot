{
 "cells": [
  {
   "cell_type": "code",
   "execution_count": null,
   "metadata": {},
   "outputs": [],
   "source": [
    "import speech_recognition as sr\n",
    "from chatterbot.trainers import ListTrainer\n",
    "from chatterbot import ChatBot\n",
    "import pyttsx3\n",
    "\n",
    "#voice setting\n",
    "engine = pyttsx3.init()\n",
    "voices = engine.getProperty('voices')\n",
    "rate = engine.getProperty('rate')\n",
    "engine.setProperty('rate', rate-30000)\n",
    "engine.setProperty('voice',voices[0].id)\n",
    "\n",
    "#bot setting\n",
    "encoding = \"ascii\"\n",
    "bot=ChatBot('Noriko',logic_adapters=[\n",
    "        {\n",
    "            \"import_path\": \"chatterbot.logic.BestMatch\",\n",
    "            \"statement_comparison_function\": \"chatterbot.comparisons.levenshtein_distance\",\n",
    "            \"response_selection_method\": \"chatterbot.response_selection.get_first_response\"\n",
    "        },        {\n",
    "            'import_path': 'chatterbot.logic.LowConfidenceAdapter',\n",
    "            'threshold': 0.65,\n",
    "            'default_response': 'I am sorry, but I do not understand.'\n",
    "        }\n",
    "    ])\n",
    "\n",
    "\n",
    "# obtain audio from the microphone\n",
    "r = sr.Recognizer()\n",
    "\n",
    "with sr.Microphone(0) as source:\n",
    "    r.adjust_for_ambient_noise(source)\n",
    "    print(\"Say something!\")\n",
    "    \n",
    "    while True:\n",
    "        audio = r.listen(source)\n",
    "        try:\n",
    "            text=r.recognize_google(audio)\n",
    "            print('You: ',text)\n",
    "            request = text\n",
    "            response = bot.get_response(request)\n",
    "            print('Saitama: ',response)\n",
    "            engine.say(response)\n",
    "            engine.runAndWait()\n",
    "            #ending the chat\n",
    "            if text=='quit':\n",
    "                print('Ending this conversation')\n",
    "                quit()       \n",
    "            \n",
    "        except Exception as e:\n",
    "            print (e)"
   ]
  }
 ],
 "metadata": {
  "kernelspec": {
   "display_name": "Python 3",
   "language": "python",
   "name": "python3"
  },
  "language_info": {
   "codemirror_mode": {
    "name": "ipython",
    "version": 3
   },
   "file_extension": ".py",
   "mimetype": "text/x-python",
   "name": "python",
   "nbconvert_exporter": "python",
   "pygments_lexer": "ipython3",
   "version": "3.6.4"
  }
 },
 "nbformat": 4,
 "nbformat_minor": 2
}
