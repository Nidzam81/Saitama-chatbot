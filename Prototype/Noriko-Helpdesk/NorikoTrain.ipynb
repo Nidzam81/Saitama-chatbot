{
 "cells": [
  {
   "cell_type": "code",
   "execution_count": 1,
   "metadata": {},
   "outputs": [
    {
     "name": "stdout",
     "output_type": "stream",
     "text": [
      "List Trainer: [####################] 100%\n"
     ]
    }
   ],
   "source": [
    "from chatterbot.trainers import ListTrainer\n",
    "from chatterbot import ChatBot\n",
    "encoding = \"ascii\"\n",
    "bot=ChatBot('Noriko')\n",
    "\n",
    "conv=open('Helpdesk example.txt','r').readlines()\n",
    "bot.set_trainer(ListTrainer)\n",
    "bot.train(conv)"
   ]
  },
  {
   "cell_type": "code",
   "execution_count": null,
   "metadata": {},
   "outputs": [
    {
     "name": "stdout",
     "output_type": "stream",
     "text": [
      "You: hi \n",
      "Saitama:  Hello, my name is Noriko, and welcome to Nordstrom!\n",
      "You: are you there? I want to know if I can return items to you by mail that I bought in a store.\n",
      "Saitama:  You may absolutely return your store purchased items to us by mail! You can print a return label directly from our website via the Returns & Exchanges page. May I send you a link to this page?\n",
      "You: yes thank you\n",
      "Saitama:  Certainly! Could I please get your e-mail address?\n",
      "You: Yes. It is Leslie@aabbcc.com\n",
      "Saitama:  Can you send me a transcript of this chat?\n",
      "You: Certainly! \n",
      "Saitama:  Thank you! I will e-mail you the chat session!\n",
      "You: Ok - thanks for your help.\n",
      "Saitama:  You're very welcome!\n"
     ]
    }
   ],
   "source": [
    "\n",
    "while True:\n",
    "    request = input('You: ')\n",
    "    response = bot.get_response(request)\n",
    "    print('Saitama: ',response)"
   ]
  },
  {
   "cell_type": "code",
   "execution_count": null,
   "metadata": {},
   "outputs": [],
   "source": []
  }
 ],
 "metadata": {
  "kernelspec": {
   "display_name": "Python 3",
   "language": "python",
   "name": "python3"
  },
  "language_info": {
   "codemirror_mode": {
    "name": "ipython",
    "version": 3
   },
   "file_extension": ".py",
   "mimetype": "text/x-python",
   "name": "python",
   "nbconvert_exporter": "python",
   "pygments_lexer": "ipython3",
   "version": "3.6.4"
  }
 },
 "nbformat": 4,
 "nbformat_minor": 2
}
